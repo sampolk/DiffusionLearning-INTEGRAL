{
 "cells": [
  {
   "cell_type": "markdown",
   "metadata": {},
   "source": [
    "## ANNOY Structure \\& KDE"
   ]
  },
  {
   "cell_type": "code",
   "execution_count": null,
   "metadata": {},
   "outputs": [],
   "source": [
    "def load_annoy_structure(X, num_trees = 10):\n",
    "    # X: a (samples x features) data matrix\n",
    "    # num_trees: number of trees within the forest. \n",
    "    #     - More trees gives higher precision when querying, but will take a longer time to return.\n",
    "    \n",
    "    import numpy as np\n",
    "    from annoy import AnnoyIndex\n",
    "    import scipy.spatial.distance as distance \n",
    "    \n",
    "    X = np.array(X);\n",
    "    [n,D] = X.shape;\n",
    "\n",
    "    t = AnnoyIndex(D, 'euclidean') # Length of item vector that will be indexed\n",
    "    for i in range(n):\n",
    "        t.add_item(i, X[i,:]) \n",
    "\n",
    "    t.build(num_trees) \n",
    "    return t"
   ]
  },
  {
   "cell_type": "code",
   "execution_count": 2,
   "metadata": {},
   "outputs": [],
   "source": [
    "def query_annoy_structure(annoy_struct,idx, k=1):\n",
    "    # annoy_struct is a nearest neighbor search structure built using the Spotify Annoy toolbox. \n",
    "    # k reflects the number of nearest neighbors to search for.\n",
    "    \n",
    "    from annoy import AnnoyIndex\n",
    "    \n",
    "    v = annoy_struct.get_nns_by_item(idx,k+1, include_distances=True)\n",
    "    indices   = v[0][1:];\n",
    "    distances = v[1][1:];\n",
    "    return indices, distances"
   ]
  },
  {
   "cell_type": "code",
   "execution_count": 30,
   "metadata": {},
   "outputs": [],
   "source": [
    "def KDE(X, H):\n",
    "    import scipy\n",
    "    import time\n",
    "    \n",
    "    n = len(X);\n",
    "    \n",
    "    tic = time.perf_counter()\n",
    "    XTree = load_annoy_structure(X);\n",
    "    NQ = H['NQueries'];\n",
    "    # Compute density, stored as p:\n",
    "    p = np.zeros((n,1))\n",
    "    idx_NN = []\n",
    "    D_NN = []\n",
    "    for i in range(n):\n",
    "        idx,D = query_annoy_structure(XTree,i,  k=NQ)\n",
    "        p[i] = np.exp(-np.square(np.array(D)[1:])/(H['Sigma0']**2)).sum()\n",
    "        idx_NN.append(idx)\n",
    "        D_NN.append(D)\n",
    "        \n",
    "        if i%25000 == 0:\n",
    "            toc = time.perf_counter()\n",
    "            print('Density calculation, '+str(round(100*i/n))+'% complete. Time Elapsed: '+ str(round(toc-tic))+ ' s.')\n",
    "\n",
    "    p = p/sum(p)\n",
    "    print('Density calculated. Time Elapsed: '+ str(round(toc-tic))+ ' s.')\n",
    "    idx_NN = np.asarray(idx_NN)\n",
    "    D_NN = np.asarray(D_NN)\n",
    "\n",
    "    return p, idx_NN, D_NN"
   ]
  },
  {
   "cell_type": "markdown",
   "metadata": {},
   "source": [
    "## Extract Graph"
   ]
  },
  {
   "cell_type": "code",
   "execution_count": 4,
   "metadata": {},
   "outputs": [],
   "source": [
    "def extract_graph(X, H):\n",
    "    \n",
    "    import time\n",
    "    from sklearn import neighbors\n",
    "    from scipy import sparse\n",
    "    print('Constructing graph...')\n",
    "    \n",
    "    tic = time.perf_counter();\n",
    "    n = len(X);\n",
    "\n",
    "    # Build adjesency matrix\n",
    "    W = neighbors.kneighbors_graph(X, H['DiffusionNN']);\n",
    "    toc = time.perf_counter();\n",
    "\n",
    "    if toc-tic<60:\n",
    "        print('Graph calculated. Time Elapsed: '+ str(round(toc-tic))+ ' s.')\n",
    "    else:\n",
    "        print('Graph calculated. Time Elapsed: '+ str(round((toc-tic)/60),2)+ ' minutes.')\n",
    "\n",
    "            \n",
    "    print('Performing eigendecomposition for diffusion map...')\n",
    "\n",
    "    # Normalize so that each row sums to 1. Take eigendecomposition:\n",
    "    D,V =  sparse.linalg.eigs(sparse.spdiags(1/W.sum(axis = 1).T, 0, len(X),len(X))*W, k=H['NEigs'])\n",
    "    \n",
    "    # Normalize and sort eigenvalues/eigenvectors:\n",
    "    D = np.absolute(D);\n",
    "    D = np.sort(D)[::-1]\n",
    "    V = np.real(V[:,np.argsort(D)[::-1]])\n",
    "    D[0] = 1;\n",
    "    V[:,0]=1;\n",
    "    \n",
    "    # Compute Diffusion Map:\n",
    "    DiffusionMap = np.zeros((n,H['NEigs']))\n",
    "    for i in range(H['NEigs']):\n",
    "        DiffusionMap[:,i] = (D[i]**H['DiffusionTime'])*V[:,i];\n",
    "        \n",
    "    toc = time.perf_counter()\n",
    "    if toc-tic<60:\n",
    "        print('Diffusion Map calculated. Time Elapsed: '+ str(round(toc-tic))+ ' s.')\n",
    "    else:\n",
    "        print('Diffusion Map calculated. Time Elapsed: '+ str(round((toc-tic)/60),2)+ ' minutes.')\n",
    "\n",
    "    \n",
    "    return DiffusionMap, V, D"
   ]
  },
  {
   "cell_type": "code",
   "execution_count": 34,
   "metadata": {},
   "outputs": [],
   "source": [
    "def extract_graph_large_matlab(X, H, idx, d):\n",
    "    print('Constructing graph and performing eigendecomposition for diffusion map...')\n",
    "    ones = np.ones((len(X), H['NQueries']))\n",
    "    idx = idx+ones\n",
    "    \n",
    "    import matlab.engine\n",
    "    eng = matlab.engine.start_matlab()\n",
    "\n",
    "    import time\n",
    "    tic = time.perf_counter();\n",
    "    V, D = eng.extract_graph_large(matlab.double(X.tolist()), H, \n",
    "                                   matlab.double(idx.tolist()), matlab.double(d.tolist()), nargout=2);\n",
    "    V = np.asarray(V)\n",
    "    D = np.asarray(D)\n",
    "    \n",
    "    n = len(X);\n",
    "    DiffusionMap = np.zeros((n,H['NEigs']))\n",
    "    for i in range(H['NEigs']):\n",
    "        DiffusionMap[:,i] = (D[i]**H['DiffusionTime'])*V[:,i];\n",
    "        \n",
    "    toc = time.perf_counter();\n",
    "    \n",
    "    if toc-tic<60:\n",
    "        print('Graph and Diffusion Map calculated. Time Elapsed: '+ str(round(toc-tic))+ ' s.')\n",
    "    else:\n",
    "        print('Graph and Diffusion Map calculated. Time Elapsed: '+ str(round((toc-tic)/60),2)+ ' minutes.')\n",
    "        \n",
    "        \n",
    "    return DiffusionMap, V, D"
   ]
  },
  {
   "cell_type": "markdown",
   "metadata": {},
   "source": [
    "## $\\rho_t$ Calculation \\& LUND Labeling"
   ]
  },
  {
   "cell_type": "code",
   "execution_count": 5,
   "metadata": {},
   "outputs": [],
   "source": [
    "def rho_t(X, p, H):\n",
    "\n",
    "    import time\n",
    "    import math\n",
    "    import scipy\n",
    "    import sklearn\n",
    "\n",
    "    tic = time.perf_counter()\n",
    "    n = len(X);\n",
    "\n",
    "    XTree = load_annoy_structure(X) \n",
    "\n",
    "    # Compute rho_t(x), stored as r:\n",
    "    r = np.zeros((n,1))\n",
    "    p_max = max(p);\n",
    "    for i in range(n):\n",
    "\n",
    "        if p[i] < p_max:\n",
    "        \n",
    "            idx,D = query_annoy_structure(XTree,i,  k=H['NQueries'])\n",
    "\n",
    "            mask = (p[idx]>p[i]).T.tolist()[0];\n",
    "\n",
    "            if sum(mask)>0:\n",
    "\n",
    "                i_star = np.array(idx)[mask][0] # Nearest neighbor of higher density\n",
    "                r[i] = np.linalg.norm(X[i_star,:]-X[i,:])\n",
    "            else:\n",
    "\n",
    "                idx,D = query_annoy_structure(XTree,i,  k=5*H['NQueries'])\n",
    "\n",
    "                mask = (p[idx]>p[i]).T.tolist()[0];\n",
    "                if sum(mask)>0:\n",
    "\n",
    "                    i_star = np.array(idx)[mask][0] # Nearest neighbor of higher density\n",
    "                    r[i] = np.linalg.norm(X[i_star,:]-X[i,:])\n",
    "                else:\n",
    "\n",
    "                    r[i] = sklearn.metrics.pairwise_distances(np.array([list(X[i,:])]), X[(p>p[i]).T.tolist()[0],:]).max();\n",
    "\n",
    "\n",
    "            if i%25000 == 0:\n",
    "                toc = time.perf_counter()\n",
    "                print('rho_t calculation, '+str(math.floor(i/n*100))+'% complete. Time Elapsed: '+ str(round(toc-tic))+ ' s.')\n",
    "        else:\n",
    "            r[i] = np.nan\n",
    "            \n",
    "    r[np.isnan(r)] = max(r)*10;    \n",
    "    toc = time.perf_counter()\n",
    "\n",
    "    print('rho_t calculation complete. Time Elapsed: '+ str(round(toc-tic))+ ' s.')\n",
    "    return r"
   ]
  },
  {
   "cell_type": "code",
   "execution_count": 6,
   "metadata": {},
   "outputs": [],
   "source": [
    "def LUND_label(r, p, H, DiffusionMap):\n",
    "\n",
    "    import time\n",
    "    import math\n",
    "    import scipy\n",
    "    import sklearn\n",
    "\n",
    "    tic = time.perf_counter()\n",
    "    n = len(p);\n",
    "    idces = np.linspace(0,n-1,n); \n",
    "    \n",
    "    Dt = r*p;\n",
    "    m_sorting = list(np.argsort(np.array(Dt.T.tolist()[0])))[::-1];\n",
    "    vec = Dt[m_sorting[:-1]]/Dt[m_sorting[1:]];\n",
    "    vec[vec == np.inf] = np.nan;\n",
    "    K = np.nanargmax(vec) +1 ;    \n",
    "        \n",
    "    # Compute K\n",
    "    if 'Kknown' in H:\n",
    "        K = H['Kknown']\n",
    "\n",
    "    if K == 1:\n",
    "        C = np.ones((n,1));\n",
    "    else:\n",
    "\n",
    "        Psi_Tree = load_annoy_structure(DiffusionMap) \n",
    "        l_sorting = list(np.argsort(np.array(p.T.tolist()[0])))[::-1];\n",
    "\n",
    "        # Compute clustering, stored as C:\n",
    "        C = np.zeros((n,1))\n",
    "        \n",
    "        # Label modes \n",
    "        for i in range(K):\n",
    "            C[m_sorting[i]] = i+1;\n",
    "                \n",
    "        # Label non-modal points in order of decreasing density.\n",
    "        for j in range(n):\n",
    "            \n",
    "            i = l_sorting[j];\n",
    "\n",
    "            if C[i] == 0:\n",
    "                \n",
    "                # We compute the index of the Dt-nearest neighbor of xi that is higher density and already labeled.\n",
    "\n",
    "                idx,D = query_annoy_structure(Psi_Tree, i,  k=2*H['NQueries'])\n",
    "\n",
    "                mask1 = np.array((p[idx]>p[i]).T.tolist()[0]); # Points with higher density in the nearest neighbor search\n",
    "                mask2 = np.array((C[idx]>0).T.tolist()[0]);    # Points that are already labeled in the nearest neighbor search\n",
    "                mask = mask1 & mask2 #intersection of mask1 and mask2\n",
    "\n",
    "                if sum(mask)>0:\n",
    "                    # There is a point that is higher density and already labeled inside idx. \n",
    "                    # So, i_star must be inside idx.\n",
    "                    i_star = np.array(idx)[mask][0] \n",
    "                    \n",
    "                else:\n",
    "                    # There is no a point that is higher density and already labeled inside the Dt-nearest neighbors of xi: idx. \n",
    "                    # So, we broaden our search range to k=10*H['NQueries'] nearest neighbors.\n",
    "                    \n",
    "                    idx,D = query_annoy_structure(Psi_Tree,i,  k=10*H['NQueries'])\n",
    "\n",
    "                    mask1 = np.array((p[idx]>p[i]).T.tolist()[0]); # Points with higher density in the nearest neighbor search\n",
    "                    mask2 = np.array((C[idx]>0).T.tolist()[0]); # Points that are already labeled in the nearest neighbor search\n",
    "                    mask = mask1 & mask2 #intersection of mask1 and mask2      \n",
    "                    \n",
    "                    if sum(mask)>0:\n",
    "                        # There is a point that is higher density and already labeled inside idx. \n",
    "                        # So, i_star must be inside idx.\n",
    "                        i_star = np.array(idx)[mask][0] # Nearest neighbor of higher density\n",
    "                    \n",
    "                    else:\n",
    "                        # There is no a point that is higher density and already labeled inside the Dt-nearest neighbors of xi: idx. \n",
    "                        # So, we do the more expensive complete search. \n",
    "                        mask1 = np.array((p>p[i]).T.tolist()[0]); # Points with higher density\n",
    "                        mask2 = np.array((C>0).T.tolist()[0]);    # Points that are already labeled\n",
    "                        mask = mask1 & mask2 #intersection of mask1 and mask2    \n",
    "                        masked_idces = list(idces[mask]); # Indices satisfying mask condition\n",
    "\n",
    "                        j_star = sklearn.metrics.pairwise_distances(np.array([list(X[i,:])]), X[mask,:]).argmin(); # Dt-nearest neighbor among masked_idces \n",
    "                        i_star = masked_idces[j_star]; #map back to original indices\n",
    "\n",
    "                C[i] = C[int(i_star)]\n",
    "\n",
    "\n",
    "                if j%5000 == 0:\n",
    "                    toc = time.perf_counter()\n",
    "                    if toc-tic<60:\n",
    "                        print('LUND labeling, '+str(math.floor(j/n*100))+'% complete. Time Elapsed: '+ str(round(toc-tic))+ ' s.')\n",
    "                    else:\n",
    "                        print('LUND labeling, '+str(math.floor(j/n*100))+'% complete. Time Elapsed: '+ str(round((toc-tic)/60,2))+ ' minutes.')\n",
    "\n",
    "    toc = time.perf_counter()\n",
    "\n",
    "    if toc-tic<60:\n",
    "        print('LUND labeling complete. Time Elapsed: '+ str(round(toc-tic))+ ' s.')\n",
    "    else:\n",
    "        print('LUND labeling complete. Time Elapsed: '+ str(round((toc-tic)/60,2))+ ' minutes.')\n",
    "\n",
    "    \n",
    "    return C,K"
   ]
  },
  {
   "cell_type": "markdown",
   "metadata": {},
   "source": [
    "## LUND Functions"
   ]
  },
  {
   "cell_type": "code",
   "execution_count": 11,
   "metadata": {},
   "outputs": [],
   "source": [
    "def LUND(X, H):\n",
    "    p, idx, d = KDE(X, H);\n",
    "    DiffusionMap, V, D = extract_graph(X, H);\n",
    "    r = rho_t(DiffusionMap, p, H);\n",
    "    C,K=  LUND_label(r, p, H, DiffusionMap);\n",
    "    return C, K"
   ]
  },
  {
   "cell_type": "code",
   "execution_count": 32,
   "metadata": {},
   "outputs": [],
   "source": [
    "def LUND_matlab(X, H):\n",
    "    p, idx, d = KDE(X, H);\n",
    "    DiffusionMap, V, D = extract_graph_large_matlab(X, H, idx, d);\n",
    "    r = rho_t(DiffusionMap, p, H);\n",
    "    C,K=  LUND_label(r, p, H, DiffusionMap);\n",
    "    return C, K"
   ]
  },
  {
   "cell_type": "markdown",
   "metadata": {},
   "source": [
    "## Initialize Parameters and Create Dataset"
   ]
  },
  {
   "cell_type": "code",
   "execution_count": 8,
   "metadata": {},
   "outputs": [],
   "source": [
    "H = {'DiffusionNN'     : 100,\n",
    "                   'DensityNN'       : 20,\n",
    "                   'NQueries'        : 100,\n",
    "                   'Sigma0'          : 10,\n",
    "                   'Sigma'          : 10,\n",
    "                   'NEigs'           : 2,\n",
    "                   'WeightType'      : 'adjesency',\n",
    "                   'DiffusionTime'   : 1, # 'SpatialParams' : {}\n",
    "                   'SpatialParams' : {}}"
   ]
  },
  {
   "cell_type": "code",
   "execution_count": 57,
   "metadata": {},
   "outputs": [],
   "source": [
    "import numpy as np\n",
    "from sklearn import datasets\n",
    "\n",
    "X,y = datasets.make_moons(5000);"
   ]
  },
  {
   "cell_type": "code",
   "execution_count": null,
   "metadata": {},
   "outputs": [],
   "source": []
  },
  {
   "cell_type": "markdown",
   "metadata": {},
   "source": [
    "## Run the two functions"
   ]
  },
  {
   "cell_type": "code",
   "execution_count": 58,
   "metadata": {},
   "outputs": [
    {
     "name": "stdout",
     "output_type": "stream",
     "text": [
      "Density calculation, 0% complete. Time Elapsed: 0 s.\n",
      "Density calculated. Time Elapsed: 0 s.\n",
      "Constructing graph...\n",
      "Graph calculated. Time Elapsed: 0 s.\n",
      "Performing eigendecomposition for diffusion map...\n",
      "Diffusion Map calculated. Time Elapsed: 1 s.\n",
      "rho_t calculation, 0% complete. Time Elapsed: 0 s.\n",
      "rho_t calculation complete. Time Elapsed: 1 s.\n"
     ]
    },
    {
     "name": "stderr",
     "output_type": "stream",
     "text": [
      "<ipython-input-6-cde443205c41>:14: RuntimeWarning: divide by zero encountered in true_divide\n",
      "  vec = Dt[m_sorting[:-1]]/Dt[m_sorting[1:]];\n"
     ]
    },
    {
     "name": "stdout",
     "output_type": "stream",
     "text": [
      "LUND labeling complete. Time Elapsed: 3 s.\n",
      "LUND run complete. Total time elapsed: 5 s.\n"
     ]
    },
    {
     "data": {
      "text/plain": [
       "<matplotlib.collections.PathCollection at 0x7fe6a1f9dd90>"
      ]
     },
     "execution_count": 58,
     "metadata": {},
     "output_type": "execute_result"
    },
    {
     "data": {
      "image/png": "[encoded data removed]",
      "text/plain": [
       "<Figure size 432x288 with 1 Axes>"
      ]
     },
     "metadata": {
      "needs_background": "light"
     },
     "output_type": "display_data"
    }
   ],
   "source": [
    "import time\n",
    "from matplotlib import pyplot as plt\n",
    "\n",
    "tic = time.perf_counter()\n",
    "C,K = LUND(X, H)\n",
    "toc = time.perf_counter()\n",
    "\n",
    "if toc-tic<60:\n",
    "    print('LUND run complete. Total time elapsed: '+ str(round(toc-tic))+ ' s.')\n",
    "else:\n",
    "    print('LUND run complete. Total time elapsed: '+ str(round((toc-tic)/60,2))+ ' minutes.')\n",
    "\n",
    "\n",
    "plt.scatter(X[:,0], X[:,1], c=C)"
   ]
  },
  {
   "cell_type": "code",
   "execution_count": 59,
   "metadata": {},
   "outputs": [
    {
     "name": "stdout",
     "output_type": "stream",
     "text": [
      "Density calculation, 0% complete. Time Elapsed: 0 s.\n",
      "Density calculated. Time Elapsed: 0 s.\n",
      "Constructing graph and performing eigendecomposition for diffusion map...\n",
      "Graph and Diffusion Map calculated. Time Elapsed: 4 s.\n",
      "rho_t calculation, 0% complete. Time Elapsed: 0 s.\n",
      "rho_t calculation complete. Time Elapsed: 1 s.\n",
      "LUND labeling complete. Time Elapsed: 0 s.\n",
      "LUND run complete. Total time elapsed: 8 s.\n"
     ]
    },
    {
     "data": {
      "text/plain": [
       "<matplotlib.collections.PathCollection at 0x7fe67fc814f0>"
      ]
     },
     "execution_count": 59,
     "metadata": {},
     "output_type": "execute_result"
    },
    {
     "data": {
      "image/png": "[encoded data removed]",
      "text/plain": [
       "<Figure size 432x288 with 1 Axes>"
      ]
     },
     "metadata": {
      "needs_background": "light"
     },
     "output_type": "display_data"
    }
   ],
   "source": [
    "import time\n",
    "from matplotlib import pyplot as plt\n",
    "\n",
    "tic = time.perf_counter()\n",
    "C,K = LUND_matlab(X, H)\n",
    "toc = time.perf_counter()\n",
    "\n",
    "if toc-tic<60:\n",
    "    print('LUND run complete. Total time elapsed: '+ str(round(toc-tic))+ ' s.')\n",
    "else:\n",
    "    print('LUND run complete. Total time elapsed: '+ str(round((toc-tic)/60,2))+ ' minutes.')\n",
    "\n",
    "\n",
    "plt.scatter(X[:,0], X[:,1], c=C)"
   ]
  },
  {
   "cell_type": "code",
   "execution_count": null,
   "metadata": {},
   "outputs": [],
   "source": []
  }
 ],
 "metadata": {
  "kernelspec": {
   "display_name": "Python 3",
   "language": "python",
   "name": "python3"
  },
  "language_info": {
   "codemirror_mode": {
    "name": "ipython",
    "version": 3
   },
   "file_extension": ".py",
   "mimetype": "text/x-python",
   "name": "python",
   "nbconvert_exporter": "python",
   "pygments_lexer": "ipython3",
   "version": "3.8.3"
  }
 },
 "nbformat": 4,
 "nbformat_minor": 4
}
